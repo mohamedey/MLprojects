{
  "nbformat": 4,
  "nbformat_minor": 0,
  "metadata": {
    "colab": {
      "provenance": [],
      "authorship_tag": "ABX9TyPlPUM2LzFdKuN/H7gJ8dIc",
      "include_colab_link": true
    },
    "kernelspec": {
      "name": "python3",
      "display_name": "Python 3"
    },
    "language_info": {
      "name": "python"
    }
  },
  "cells": [
    {
      "cell_type": "markdown",
      "metadata": {
        "id": "view-in-github",
        "colab_type": "text"
      },
      "source": [
        "<a href=\"https://colab.research.google.com/github/mohamedey/MLprojects/blob/main/ML.ipynb\" target=\"_parent\"><img src=\"https://colab.research.google.com/assets/colab-badge.svg\" alt=\"Open In Colab\"/></a>"
      ]
    },
    {
      "cell_type": "code",
      "source": [
        "#For ass 14\n",
        "import pandas as pd\n",
        "import matplotlib.pyplot as plt\n",
        "import gradio as gr\n",
        "from sklearn.model_selection import train_test_split\n",
        "from sklearn.linear_model import LinearRegression\n",
        "from sklearn.metrics import mean_squared_error, r2_score\n",
        "\n",
        "df = pd.read_csv('salary_data.csv')\n",
        "df.drop_duplicates(inplace=True)\n",
        "df.dropna(inplace=True)\n",
        "\n",
        "X = df[['YearsExperience']]\n",
        "y = df['Salary']\n",
        "\n",
        "x_train, x_test, y_train, y_test = train_test_split(X, y, test_size=0.2, random_state=42)\n",
        "\n",
        "model = LinearRegression()\n",
        "model.fit(x_train, y_train)\n",
        "\n",
        "pred = model.predict(x_test)\n",
        "MSE = mean_squared_error(y_test, pred)\n",
        "r2 = r2_score(y_test, pred)\n",
        "\n",
        "def predict_salary(years):\n",
        "    try:\n",
        "        years = float(years)\n",
        "    except:\n",
        "        return \" الرجاء إدخال رقم صالح.\", None\n",
        "\n",
        "    if years < 0 or years > 20:\n",
        "        return \" يجب أن يكون عدد سنوات الخبرة بين 0 و 20 فقط.\", None\n",
        "\n",
        "    salary_pred = float(model.predict([[years]]))\n",
        "\n",
        "    plt.figure(figsize=(8, 5))\n",
        "    plt.scatter(X, y, color='blue', label='Original data')\n",
        "    plt.plot(x_test, pred, color='red', linewidth=2, label='Regression Line')\n",
        "    plt.scatter(years, salary_pred, color='green', s=100, label='Predicted salary')\n",
        "    plt.xlabel('Years of Experience')\n",
        "    plt.ylabel('Salary')\n",
        "    plt.title('Years of Experience vs Salary')\n",
        "    plt.legend()\n",
        "    plt.grid(True)\n",
        "    plt.tight_layout()\n",
        "    plt.savefig(\"plot.png\")\n",
        "    plt.close()\n",
        "\n",
        "    return (f\"Expected Salary: {salary_pred:.2f} $\\n\\nMSE: {MSE:.2f}\\nR² Score: {r2:.2f}\", \"plot.png\")\n",
        "\n",
        "interface = gr.Interface(\n",
        "    fn=predict_salary,\n",
        "    inputs=gr.Textbox(label=\"أدخل عدد سنوات الخبرة (0 - 20)\"),\n",
        "    outputs=[\n",
        "        gr.Textbox(label=\"النتائج\"),\n",
        "        gr.Image(label=\"الرسم البياني\")\n",
        "    ],\n",
        "    title=\"توقع الراتب\",\n",
        "    description=\"أدخل عدد سنوات الخبرة لتحصل على الراتب المتوقع (بين 0 و 20)\"\n",
        ")\n",
        "\n",
        "interface.launch(share=True)\n"
      ],
      "metadata": {
        "colab": {
          "base_uri": "https://localhost:8080/",
          "height": 611
        },
        "id": "9fIK3pl-APP7",
        "outputId": "14a516e0-d156-4b87-9cc5-f379f1d4453c"
      },
      "execution_count": null,
      "outputs": [
        {
          "output_type": "stream",
          "name": "stdout",
          "text": [
            "Colab notebook detected. To show errors in colab notebook, set debug=True in launch()\n",
            "* Running on public URL: https://2ae843d6bb4195312a.gradio.live\n",
            "\n",
            "This share link expires in 1 week. For free permanent hosting and GPU upgrades, run `gradio deploy` from the terminal in the working directory to deploy to Hugging Face Spaces (https://huggingface.co/spaces)\n"
          ]
        },
        {
          "output_type": "display_data",
          "data": {
            "text/plain": [
              "<IPython.core.display.HTML object>"
            ],
            "text/html": [
              "<div><iframe src=\"https://2ae843d6bb4195312a.gradio.live\" width=\"100%\" height=\"500\" allow=\"autoplay; camera; microphone; clipboard-read; clipboard-write;\" frameborder=\"0\" allowfullscreen></iframe></div>"
            ]
          },
          "metadata": {}
        },
        {
          "output_type": "execute_result",
          "data": {
            "text/plain": []
          },
          "metadata": {},
          "execution_count": 35
        }
      ]
    },
    {
      "cell_type": "code",
      "source": [
        "#For ASS 13\n",
        "import pandas as pd\n",
        "import gradio as gr\n",
        "from sklearn.model_selection import train_test_split\n",
        "from sklearn.svm import SVC\n",
        "from sklearn.metrics import accuracy_score\n",
        "\n",
        "df = pd.read_csv('Iris.csv')\n",
        "df.drop_duplicates(inplace=True)\n",
        "df.dropna(inplace=True)\n",
        "\n",
        "df['Species'] = df['Species'].replace({\n",
        "    'Iris-setosa': 0,\n",
        "    'Iris-versicolor': 1,\n",
        "    'Iris-virginica': 2\n",
        "})\n",
        "\n",
        "X = df[['SepalLengthCm', 'SepalWidthCm', 'PetalLengthCm', 'PetalWidthCm']]\n",
        "y = df['Species']\n",
        "\n",
        "x_train, x_test, y_train, y_test = train_test_split(X, y, test_size=0.2, random_state=42)\n",
        "\n",
        "model = SVC(kernel='linear', C=0.1)\n",
        "model.fit(x_train, y_train)\n",
        "\n",
        "def predict_species(sepal_length, sepal_width, petal_length, petal_width):\n",
        "\n",
        "    prediction = float(model.predict([[sepal_length, sepal_width, petal_length, petal_width]]))\n",
        "    labels = ['Iris-setosa', 'Iris-versicolor', 'Iris-virginica']\n",
        "    return labels[int(prediction)]\n",
        "\n",
        "gr.Interface(\n",
        "    fn=predict_species,\n",
        "    inputs=[\n",
        "        gr.Number(label=\"Sepal-Length in Cm\"),\n",
        "        gr.Number(label=\"Sepal-Width in Cm\"),\n",
        "        gr.Number(label=\"Petal-Length in Cm\"),\n",
        "        gr.Number(label=\"Petal-Width in Cm\")\n",
        "    ],\n",
        "    outputs=gr.Textbox(label=\"Predicted Species\"),\n",
        "    title=\"Iris Flower \",\n",
        "    description=\"Enter flower measurements\"\n",
        ")\n",
        "interface.launch(share=True)\n"
      ],
      "metadata": {
        "colab": {
          "base_uri": "https://localhost:8080/",
          "height": 680
        },
        "id": "H4hW3edoJeHd",
        "outputId": "89b77c4e-1a71-4b58-ac70-f050baa73690"
      },
      "execution_count": null,
      "outputs": [
        {
          "output_type": "stream",
          "name": "stderr",
          "text": [
            "/tmp/ipython-input-27-2757580134.py:12: FutureWarning: Downcasting behavior in `replace` is deprecated and will be removed in a future version. To retain the old behavior, explicitly call `result.infer_objects(copy=False)`. To opt-in to the future behavior, set `pd.set_option('future.no_silent_downcasting', True)`\n",
            "  df['Species'] = df['Species'].replace({\n"
          ]
        },
        {
          "output_type": "stream",
          "name": "stdout",
          "text": [
            "Rerunning server... use `close()` to stop if you need to change `launch()` parameters.\n",
            "----\n",
            "Colab notebook detected. To show errors in colab notebook, set debug=True in launch()\n",
            "* Running on public URL: https://73e70571209b053760.gradio.live\n",
            "\n",
            "This share link expires in 1 week. For free permanent hosting and GPU upgrades, run `gradio deploy` from the terminal in the working directory to deploy to Hugging Face Spaces (https://huggingface.co/spaces)\n"
          ]
        },
        {
          "output_type": "display_data",
          "data": {
            "text/plain": [
              "<IPython.core.display.HTML object>"
            ],
            "text/html": [
              "<div><iframe src=\"https://73e70571209b053760.gradio.live\" width=\"100%\" height=\"500\" allow=\"autoplay; camera; microphone; clipboard-read; clipboard-write;\" frameborder=\"0\" allowfullscreen></iframe></div>"
            ]
          },
          "metadata": {}
        },
        {
          "output_type": "execute_result",
          "data": {
            "text/plain": []
          },
          "metadata": {},
          "execution_count": 27
        }
      ]
    }
  ]
}